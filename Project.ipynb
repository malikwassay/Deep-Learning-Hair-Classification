{
  "nbformat": 4,
  "nbformat_minor": 0,
  "metadata": {
    "colab": {
      "provenance": [],
      "gpuType": "T4"
    },
    "kernelspec": {
      "name": "python3",
      "display_name": "Python 3"
    },
    "language_info": {
      "name": "python"
    },
    "accelerator": "GPU"
  },
  "cells": [
    {
      "cell_type": "markdown",
      "source": [
        "# How to run the code!\n",
        "Install the required libraries using pip install command.\n",
        "Libraries used:\n",
        "\n",
        "\n",
        "1.   Tensorflow\n",
        "2.   OS\n",
        "3.   shutil\n",
        "4.   random\n",
        "5.   sklearn\n",
        "6.   numpy\n",
        "\n",
        "\n",
        "Run all the cells one after one.\n"
      ],
      "metadata": {
        "id": "h7iZgdZzUw2n"
      }
    },
    {
      "cell_type": "markdown",
      "source": [
        "# Importing liabraries"
      ],
      "metadata": {
        "id": "KR2VzweRTA1u"
      }
    },
    {
      "cell_type": "code",
      "source": [
        "from tensorflow.keras import layers, models\n",
        "from tensorflow.keras.applications import InceptionV3, VGG16\n",
        "from tensorflow.keras.layers import Conv2D, MaxPooling2D, Flatten, Dense, Dropout\n",
        "from tensorflow.keras.optimizers import Adam\n",
        "from tensorflow.keras.models import Model\n",
        "import os\n",
        "import shutil\n",
        "import random\n",
        "from tensorflow.keras.preprocessing.image import ImageDataGenerator\n",
        "from sklearn.metrics import classification_report, confusion_matrix\n",
        "import numpy as np\n"
      ],
      "metadata": {
        "id": "EfpcUI4BTH_V"
      },
      "execution_count": null,
      "outputs": []
    },
    {
      "cell_type": "markdown",
      "source": [
        "# Splitting dataset into train, test, validate"
      ],
      "metadata": {
        "id": "GMpHYWHaShyx"
      }
    },
    {
      "cell_type": "code",
      "execution_count": 7,
      "metadata": {
        "colab": {
          "base_uri": "https://localhost:8080/"
        },
        "id": "73f3pkriMrRX",
        "outputId": "18ad9be6-6fad-4d99-b390-2042d1469f96"
      },
      "outputs": [
        {
          "output_type": "stream",
          "name": "stdout",
          "text": [
            "Data splitting complete.\n"
          ]
        }
      ],
      "source": [
        "# Paths for original dataset and destination folders\n",
        "original_dataset_dir = '/content/drive/MyDrive/HAIR/Dataset'  # Contains curly, straight, kinky, etc.\n",
        "base_dir = '/content/drive/MyDrive/HAIR/splitted_dataset'  # This will contain train, val, test directories\n",
        "\n",
        "# Define train, validation, and test splits\n",
        "train_ratio = 0.7\n",
        "val_ratio = 0.15\n",
        "test_ratio = 0.15\n",
        "\n",
        "# Make new directories for train, val, and test splits\n",
        "for split in ['train', 'val', 'test']:\n",
        "    split_dir = os.path.join(base_dir, split)\n",
        "    os.makedirs(split_dir, exist_ok=True)\n",
        "    for category in ['curly', 'Straight', 'kinky', 'Wavy', 'dreadlocks']:\n",
        "        os.makedirs(os.path.join(split_dir, category), exist_ok=True)\n",
        "\n",
        "# Split the data and copy files\n",
        "for category in ['curly', 'Straight', 'kinky', 'Wavy', 'dreadlocks']:\n",
        "    category_path = os.path.join(original_dataset_dir, category)\n",
        "    images = os.listdir(category_path)\n",
        "    random.shuffle(images)\n",
        "\n",
        "    train_count = int(train_ratio * len(images))\n",
        "    val_count = int(val_ratio * len(images))\n",
        "\n",
        "    train_images = images[:train_count]\n",
        "    val_images = images[train_count:train_count + val_count]\n",
        "    test_images = images[train_count + val_count:]\n",
        "\n",
        "    # Move images to train folder\n",
        "    for image in train_images:\n",
        "        src = os.path.join(category_path, image)\n",
        "        dst = os.path.join(base_dir, 'train', category, image)\n",
        "        shutil.copyfile(src, dst)\n",
        "\n",
        "    # Move images to val folder\n",
        "    for image in val_images:\n",
        "        src = os.path.join(category_path, image)\n",
        "        dst = os.path.join(base_dir, 'val', category, image)\n",
        "        shutil.copyfile(src, dst)\n",
        "\n",
        "    # Move images to test folder\n",
        "    for image in test_images:\n",
        "        src = os.path.join(category_path, image)\n",
        "        dst = os.path.join(base_dir, 'test', category, image)\n",
        "        shutil.copyfile(src, dst)\n",
        "\n",
        "print(\"Data splitting complete.\")\n",
        "\n"
      ]
    },
    {
      "cell_type": "markdown",
      "source": [
        "#Preprosessing for InceptionV3 and VGG16 model"
      ],
      "metadata": {
        "id": "H2QxILwCSv84"
      }
    },
    {
      "cell_type": "code",
      "source": [
        "# Define image size (224x224 for VGG16 and Inception, 227x227 for AlexNet)\n",
        "image_size = (224, 224)  # Change to (227, 227) if using AlexNet\n",
        "\n",
        "# Set up ImageDataGenerator for training with augmentation\n",
        "train_datagen = ImageDataGenerator(\n",
        "    rescale=1./255,\n",
        "    rotation_range=20,\n",
        "    width_shift_range=0.2,\n",
        "    height_shift_range=0.2,\n",
        "    shear_range=0.2,\n",
        "    zoom_range=0.2,\n",
        "    horizontal_flip=True,\n",
        "    fill_mode='nearest'\n",
        ")\n",
        "\n",
        "# Set up ImageDataGenerator for validation and test (only rescaling)\n",
        "val_datagen = ImageDataGenerator(rescale=1./255)\n",
        "test_datagen = ImageDataGenerator(rescale=1./255)\n",
        "\n",
        "# Load the images from directories\n",
        "train_generator = train_datagen.flow_from_directory(\n",
        "    os.path.join(base_dir, 'train'),\n",
        "    target_size=image_size,\n",
        "    batch_size=32,\n",
        "    class_mode='categorical'\n",
        ")\n",
        "\n",
        "val_generator = val_datagen.flow_from_directory(\n",
        "    os.path.join(base_dir, 'val'),\n",
        "    target_size=image_size,\n",
        "    batch_size=32,\n",
        "    class_mode='categorical'\n",
        ")\n",
        "\n",
        "test_generator = test_datagen.flow_from_directory(\n",
        "    os.path.join(base_dir, 'test'),\n",
        "    target_size=image_size,\n",
        "    batch_size=32,\n",
        "    class_mode='categorical',\n",
        "    shuffle=False  # Disable shuffle for testing to get predictions in order\n",
        ")\n",
        "\n",
        "print(\"Data preprocessing complete.\")\n"
      ],
      "metadata": {
        "colab": {
          "base_uri": "https://localhost:8080/"
        },
        "id": "yZIXrCroTys2",
        "outputId": "2d69cbdf-4e61-466a-ed21-14faa9fb1df7"
      },
      "execution_count": 28,
      "outputs": [
        {
          "output_type": "stream",
          "name": "stdout",
          "text": [
            "Found 1506 images belonging to 5 classes.\n",
            "Found 364 images belonging to 5 classes.\n",
            "Found 370 images belonging to 5 classes.\n",
            "Data preprocessing complete.\n"
          ]
        }
      ]
    },
    {
      "cell_type": "code",
      "source": [],
      "metadata": {
        "id": "rtat72J6WnPy"
      },
      "execution_count": 29,
      "outputs": []
    },
    {
      "cell_type": "markdown",
      "source": [
        "# Load InceptionV3 model & VGG16 model"
      ],
      "metadata": {
        "id": "Q-k1I_2ATvmW"
      }
    },
    {
      "cell_type": "code",
      "source": [
        "# Load InceptionV3 model without the top layer (pre-trained on ImageNet)\n",
        "base_inception_model = InceptionV3(weights='imagenet', include_top=False, input_shape=(224, 224, 3))\n",
        "\n",
        "# Add custom layers on top of the base model\n",
        "x = layers.Flatten()(base_inception_model.output)\n",
        "x = layers.Dense(512, activation='relu')(x)\n",
        "x = layers.Dropout(0.5)(x)\n",
        "output = layers.Dense(train_generator.num_classes, activation='softmax')(x)\n",
        "\n",
        "# Create the final model\n",
        "inception_model = Model(inputs=base_inception_model.input, outputs=output)\n",
        "\n",
        "# Compile the model\n",
        "inception_model.compile(optimizer=Adam(learning_rate=0.0001), loss='categorical_crossentropy', metrics=['accuracy'])\n"
      ],
      "metadata": {
        "id": "4vjY0pBtXA2J"
      },
      "execution_count": 30,
      "outputs": []
    },
    {
      "cell_type": "code",
      "source": [
        "# Load VGG16 model without the top layer (pre-trained on ImageNet)\n",
        "base_vgg_model = VGG16(weights='imagenet', include_top=False, input_shape=(224, 224, 3))\n",
        "\n",
        "# Add custom layers on top of the base model\n",
        "x = layers.Flatten()(base_vgg_model.output)\n",
        "x = layers.Dense(512, activation='relu')(x)\n",
        "x = layers.Dropout(0.5)(x)\n",
        "output = layers.Dense(train_generator.num_classes, activation='softmax')(x)\n",
        "\n",
        "# Create the final model\n",
        "vgg_model = Model(inputs=base_vgg_model.input, outputs=output)\n",
        "\n",
        "# Compile the model\n",
        "vgg_model.compile(optimizer=Adam(learning_rate=0.0001), loss='categorical_crossentropy', metrics=['accuracy'])\n"
      ],
      "metadata": {
        "id": "2-zshCDOXDHK"
      },
      "execution_count": 31,
      "outputs": []
    },
    {
      "cell_type": "markdown",
      "source": [
        "# Training the InceptionV3 and VGG16"
      ],
      "metadata": {
        "id": "NBRwW9FIT6ZM"
      }
    },
    {
      "cell_type": "code",
      "source": [
        "epochs = 35  # Set number of epochs\n",
        "\n",
        "# Train InceptionV3\n",
        "print(\"Training InceptionV3 model...\")\n",
        "inception_model.fit(train_generator, validation_data=val_generator, epochs=epochs)\n",
        "\n",
        "# Train VGG16\n",
        "print(\"Training VGG16 model...\")\n",
        "vgg_model.fit(train_generator, validation_data=val_generator, epochs=epochs)\n"
      ],
      "metadata": {
        "colab": {
          "base_uri": "https://localhost:8080/"
        },
        "id": "uEhJCQT7uPX-",
        "outputId": "fd75fc25-191e-475c-e5cf-8077c694ebe0"
      },
      "execution_count": 41,
      "outputs": [
        {
          "output_type": "stream",
          "name": "stdout",
          "text": [
            "Training InceptionV3 model...\n",
            "Epoch 1/35\n"
          ]
        },
        {
          "output_type": "stream",
          "name": "stderr",
          "text": [
            "/usr/local/lib/python3.10/dist-packages/keras/src/trainers/data_adapters/py_dataset_adapter.py:121: UserWarning: Your `PyDataset` class should call `super().__init__(**kwargs)` in its constructor. `**kwargs` can include `workers`, `use_multiprocessing`, `max_queue_size`. Do not pass these arguments to `fit()`, as they will be ignored.\n",
            "  self._warn_if_super_not_called()\n"
          ]
        },
        {
          "output_type": "stream",
          "name": "stdout",
          "text": [
            "\u001b[1m48/48\u001b[0m \u001b[32m━━━━━━━━━━━━━━━━━━━━\u001b[0m\u001b[37m\u001b[0m \u001b[1m38s\u001b[0m 736ms/step - accuracy: 0.9314 - loss: 0.1952 - val_accuracy: 0.9341 - val_loss: 0.2182\n",
            "Epoch 2/35\n",
            "\u001b[1m48/48\u001b[0m \u001b[32m━━━━━━━━━━━━━━━━━━━━\u001b[0m\u001b[37m\u001b[0m \u001b[1m37s\u001b[0m 697ms/step - accuracy: 0.9516 - loss: 0.1384 - val_accuracy: 0.9176 - val_loss: 0.2742\n",
            "Epoch 3/35\n",
            "\u001b[1m48/48\u001b[0m \u001b[32m━━━━━━━━━━━━━━━━━━━━\u001b[0m\u001b[37m\u001b[0m \u001b[1m36s\u001b[0m 644ms/step - accuracy: 0.9431 - loss: 0.1821 - val_accuracy: 0.8874 - val_loss: 0.4469\n",
            "Epoch 4/35\n",
            "\u001b[1m48/48\u001b[0m \u001b[32m━━━━━━━━━━━━━━━━━━━━\u001b[0m\u001b[37m\u001b[0m \u001b[1m35s\u001b[0m 662ms/step - accuracy: 0.9380 - loss: 0.1994 - val_accuracy: 0.9286 - val_loss: 0.2306\n",
            "Epoch 5/35\n",
            "\u001b[1m48/48\u001b[0m \u001b[32m━━━━━━━━━━━━━━━━━━━━\u001b[0m\u001b[37m\u001b[0m \u001b[1m41s\u001b[0m 636ms/step - accuracy: 0.9438 - loss: 0.1759 - val_accuracy: 0.9231 - val_loss: 0.2656\n",
            "Epoch 6/35\n",
            "\u001b[1m48/48\u001b[0m \u001b[32m━━━━━━━━━━━━━━━━━━━━\u001b[0m\u001b[37m\u001b[0m \u001b[1m43s\u001b[0m 688ms/step - accuracy: 0.9631 - loss: 0.1471 - val_accuracy: 0.9341 - val_loss: 0.2003\n",
            "Epoch 7/35\n",
            "\u001b[1m48/48\u001b[0m \u001b[32m━━━━━━━━━━━━━━━━━━━━\u001b[0m\u001b[37m\u001b[0m \u001b[1m39s\u001b[0m 654ms/step - accuracy: 0.9522 - loss: 0.1305 - val_accuracy: 0.9368 - val_loss: 0.3179\n",
            "Epoch 8/35\n",
            "\u001b[1m48/48\u001b[0m \u001b[32m━━━━━━━━━━━━━━━━━━━━\u001b[0m\u001b[37m\u001b[0m \u001b[1m43s\u001b[0m 695ms/step - accuracy: 0.9518 - loss: 0.1139 - val_accuracy: 0.9258 - val_loss: 0.3422\n",
            "Epoch 9/35\n",
            "\u001b[1m48/48\u001b[0m \u001b[32m━━━━━━━━━━━━━━━━━━━━\u001b[0m\u001b[37m\u001b[0m \u001b[1m35s\u001b[0m 655ms/step - accuracy: 0.9537 - loss: 0.1600 - val_accuracy: 0.8434 - val_loss: 0.8290\n",
            "Epoch 10/35\n",
            "\u001b[1m48/48\u001b[0m \u001b[32m━━━━━━━━━━━━━━━━━━━━\u001b[0m\u001b[37m\u001b[0m \u001b[1m41s\u001b[0m 650ms/step - accuracy: 0.9616 - loss: 0.1274 - val_accuracy: 0.8791 - val_loss: 0.4618\n",
            "Epoch 11/35\n",
            "\u001b[1m48/48\u001b[0m \u001b[32m━━━━━━━━━━━━━━━━━━━━\u001b[0m\u001b[37m\u001b[0m \u001b[1m36s\u001b[0m 669ms/step - accuracy: 0.9238 - loss: 0.2278 - val_accuracy: 0.8764 - val_loss: 0.4785\n",
            "Epoch 12/35\n",
            "\u001b[1m48/48\u001b[0m \u001b[32m━━━━━━━━━━━━━━━━━━━━\u001b[0m\u001b[37m\u001b[0m \u001b[1m43s\u001b[0m 707ms/step - accuracy: 0.9513 - loss: 0.1562 - val_accuracy: 0.8269 - val_loss: 0.5661\n",
            "Epoch 13/35\n",
            "\u001b[1m48/48\u001b[0m \u001b[32m━━━━━━━━━━━━━━━━━━━━\u001b[0m\u001b[37m\u001b[0m \u001b[1m38s\u001b[0m 657ms/step - accuracy: 0.9529 - loss: 0.1435 - val_accuracy: 0.9203 - val_loss: 0.2713\n",
            "Epoch 14/35\n",
            "\u001b[1m48/48\u001b[0m \u001b[32m━━━━━━━━━━━━━━━━━━━━\u001b[0m\u001b[37m\u001b[0m \u001b[1m38s\u001b[0m 691ms/step - accuracy: 0.9663 - loss: 0.1127 - val_accuracy: 0.9093 - val_loss: 0.2994\n",
            "Epoch 15/35\n",
            "\u001b[1m48/48\u001b[0m \u001b[32m━━━━━━━━━━━━━━━━━━━━\u001b[0m\u001b[37m\u001b[0m \u001b[1m39s\u001b[0m 644ms/step - accuracy: 0.9485 - loss: 0.1690 - val_accuracy: 0.9121 - val_loss: 0.3716\n",
            "Epoch 16/35\n",
            "\u001b[1m48/48\u001b[0m \u001b[32m━━━━━━━━━━━━━━━━━━━━\u001b[0m\u001b[37m\u001b[0m \u001b[1m43s\u001b[0m 706ms/step - accuracy: 0.9496 - loss: 0.1831 - val_accuracy: 0.9451 - val_loss: 0.2101\n",
            "Epoch 17/35\n",
            "\u001b[1m48/48\u001b[0m \u001b[32m━━━━━━━━━━━━━━━━━━━━\u001b[0m\u001b[37m\u001b[0m \u001b[1m35s\u001b[0m 647ms/step - accuracy: 0.9672 - loss: 0.1137 - val_accuracy: 0.9121 - val_loss: 0.3413\n",
            "Epoch 18/35\n",
            "\u001b[1m48/48\u001b[0m \u001b[32m━━━━━━━━━━━━━━━━━━━━\u001b[0m\u001b[37m\u001b[0m \u001b[1m41s\u001b[0m 650ms/step - accuracy: 0.9458 - loss: 0.1827 - val_accuracy: 0.9286 - val_loss: 0.2682\n",
            "Epoch 19/35\n",
            "\u001b[1m48/48\u001b[0m \u001b[32m━━━━━━━━━━━━━━━━━━━━\u001b[0m\u001b[37m\u001b[0m \u001b[1m35s\u001b[0m 626ms/step - accuracy: 0.9638 - loss: 0.1214 - val_accuracy: 0.9368 - val_loss: 0.2952\n",
            "Epoch 20/35\n",
            "\u001b[1m48/48\u001b[0m \u001b[32m━━━━━━━━━━━━━━━━━━━━\u001b[0m\u001b[37m\u001b[0m \u001b[1m35s\u001b[0m 647ms/step - accuracy: 0.9680 - loss: 0.1076 - val_accuracy: 0.9231 - val_loss: 0.3765\n",
            "Epoch 21/35\n",
            "\u001b[1m48/48\u001b[0m \u001b[32m━━━━━━━━━━━━━━━━━━━━\u001b[0m\u001b[37m\u001b[0m \u001b[1m41s\u001b[0m 657ms/step - accuracy: 0.9606 - loss: 0.1046 - val_accuracy: 0.9258 - val_loss: 0.3985\n",
            "Epoch 22/35\n",
            "\u001b[1m48/48\u001b[0m \u001b[32m━━━━━━━━━━━━━━━━━━━━\u001b[0m\u001b[37m\u001b[0m \u001b[1m43s\u001b[0m 700ms/step - accuracy: 0.9742 - loss: 0.1128 - val_accuracy: 0.9451 - val_loss: 0.3220\n",
            "Epoch 23/35\n",
            "\u001b[1m48/48\u001b[0m \u001b[32m━━━━━━━━━━━━━━━━━━━━\u001b[0m\u001b[37m\u001b[0m \u001b[1m41s\u001b[0m 700ms/step - accuracy: 0.9389 - loss: 0.1821 - val_accuracy: 0.9148 - val_loss: 0.4891\n",
            "Epoch 24/35\n",
            "\u001b[1m48/48\u001b[0m \u001b[32m━━━━━━━━━━━━━━━━━━━━\u001b[0m\u001b[37m\u001b[0m \u001b[1m35s\u001b[0m 651ms/step - accuracy: 0.9612 - loss: 0.1351 - val_accuracy: 0.8984 - val_loss: 0.3352\n",
            "Epoch 25/35\n",
            "\u001b[1m48/48\u001b[0m \u001b[32m━━━━━━━━━━━━━━━━━━━━\u001b[0m\u001b[37m\u001b[0m \u001b[1m42s\u001b[0m 644ms/step - accuracy: 0.9628 - loss: 0.1515 - val_accuracy: 0.9148 - val_loss: 0.2529\n",
            "Epoch 26/35\n",
            "\u001b[1m48/48\u001b[0m \u001b[32m━━━━━━━━━━━━━━━━━━━━\u001b[0m\u001b[37m\u001b[0m \u001b[1m41s\u001b[0m 666ms/step - accuracy: 0.9524 - loss: 0.1203 - val_accuracy: 0.9258 - val_loss: 0.3136\n",
            "Epoch 27/35\n",
            "\u001b[1m48/48\u001b[0m \u001b[32m━━━━━━━━━━━━━━━━━━━━\u001b[0m\u001b[37m\u001b[0m \u001b[1m41s\u001b[0m 644ms/step - accuracy: 0.9897 - loss: 0.0474 - val_accuracy: 0.8819 - val_loss: 0.4174\n",
            "Epoch 28/35\n",
            "\u001b[1m48/48\u001b[0m \u001b[32m━━━━━━━━━━━━━━━━━━━━\u001b[0m\u001b[37m\u001b[0m \u001b[1m35s\u001b[0m 655ms/step - accuracy: 0.9647 - loss: 0.1250 - val_accuracy: 0.8434 - val_loss: 0.5352\n",
            "Epoch 29/35\n",
            "\u001b[1m48/48\u001b[0m \u001b[32m━━━━━━━━━━━━━━━━━━━━\u001b[0m\u001b[37m\u001b[0m \u001b[1m43s\u001b[0m 698ms/step - accuracy: 0.9426 - loss: 0.1724 - val_accuracy: 0.8544 - val_loss: 0.6333\n",
            "Epoch 30/35\n",
            "\u001b[1m48/48\u001b[0m \u001b[32m━━━━━━━━━━━━━━━━━━━━\u001b[0m\u001b[37m\u001b[0m \u001b[1m38s\u001b[0m 705ms/step - accuracy: 0.9491 - loss: 0.1516 - val_accuracy: 0.9231 - val_loss: 0.3403\n",
            "Epoch 31/35\n",
            "\u001b[1m48/48\u001b[0m \u001b[32m━━━━━━━━━━━━━━━━━━━━\u001b[0m\u001b[37m\u001b[0m \u001b[1m41s\u001b[0m 700ms/step - accuracy: 0.9580 - loss: 0.1294 - val_accuracy: 0.9231 - val_loss: 0.3467\n",
            "Epoch 32/35\n",
            "\u001b[1m48/48\u001b[0m \u001b[32m━━━━━━━━━━━━━━━━━━━━\u001b[0m\u001b[37m\u001b[0m \u001b[1m38s\u001b[0m 689ms/step - accuracy: 0.9541 - loss: 0.1281 - val_accuracy: 0.9368 - val_loss: 0.2760\n",
            "Epoch 33/35\n",
            "\u001b[1m48/48\u001b[0m \u001b[32m━━━━━━━━━━━━━━━━━━━━\u001b[0m\u001b[37m\u001b[0m \u001b[1m38s\u001b[0m 638ms/step - accuracy: 0.9358 - loss: 0.2123 - val_accuracy: 0.9176 - val_loss: 0.3263\n",
            "Epoch 34/35\n",
            "\u001b[1m48/48\u001b[0m \u001b[32m━━━━━━━━━━━━━━━━━━━━\u001b[0m\u001b[37m\u001b[0m \u001b[1m35s\u001b[0m 640ms/step - accuracy: 0.9772 - loss: 0.0770 - val_accuracy: 0.8874 - val_loss: 0.4744\n",
            "Epoch 35/35\n",
            "\u001b[1m48/48\u001b[0m \u001b[32m━━━━━━━━━━━━━━━━━━━━\u001b[0m\u001b[37m\u001b[0m \u001b[1m41s\u001b[0m 654ms/step - accuracy: 0.9532 - loss: 0.1584 - val_accuracy: 0.9286 - val_loss: 0.2480\n",
            "Training VGG16 model...\n",
            "Epoch 1/35\n",
            "\u001b[1m48/48\u001b[0m \u001b[32m━━━━━━━━━━━━━━━━━━━━\u001b[0m\u001b[37m\u001b[0m \u001b[1m44s\u001b[0m 775ms/step - accuracy: 0.6835 - loss: 0.8353 - val_accuracy: 0.6758 - val_loss: 0.7874\n",
            "Epoch 2/35\n",
            "\u001b[1m48/48\u001b[0m \u001b[32m━━━━━━━━━━━━━━━━━━━━\u001b[0m\u001b[37m\u001b[0m \u001b[1m82s\u001b[0m 804ms/step - accuracy: 0.6809 - loss: 0.8447 - val_accuracy: 0.7033 - val_loss: 0.7593\n",
            "Epoch 3/35\n",
            "\u001b[1m48/48\u001b[0m \u001b[32m━━━━━━━━━━━━━━━━━━━━\u001b[0m\u001b[37m\u001b[0m \u001b[1m80s\u001b[0m 776ms/step - accuracy: 0.6627 - loss: 0.8840 - val_accuracy: 0.7637 - val_loss: 0.5830\n",
            "Epoch 4/35\n",
            "\u001b[1m48/48\u001b[0m \u001b[32m━━━━━━━━━━━━━━━━━━━━\u001b[0m\u001b[37m\u001b[0m \u001b[1m82s\u001b[0m 774ms/step - accuracy: 0.7771 - loss: 0.6337 - val_accuracy: 0.7527 - val_loss: 0.7398\n",
            "Epoch 5/35\n",
            "\u001b[1m48/48\u001b[0m \u001b[32m━━━━━━━━━━━━━━━━━━━━\u001b[0m\u001b[37m\u001b[0m \u001b[1m41s\u001b[0m 759ms/step - accuracy: 0.7693 - loss: 0.6592 - val_accuracy: 0.8214 - val_loss: 0.5103\n",
            "Epoch 6/35\n",
            "\u001b[1m48/48\u001b[0m \u001b[32m━━━━━━━━━━━━━━━━━━━━\u001b[0m\u001b[37m\u001b[0m \u001b[1m41s\u001b[0m 774ms/step - accuracy: 0.8195 - loss: 0.5157 - val_accuracy: 0.8434 - val_loss: 0.4933\n",
            "Epoch 7/35\n",
            "\u001b[1m48/48\u001b[0m \u001b[32m━━━━━━━━━━━━━━━━━━━━\u001b[0m\u001b[37m\u001b[0m \u001b[1m41s\u001b[0m 772ms/step - accuracy: 0.7394 - loss: 0.7456 - val_accuracy: 0.5769 - val_loss: 1.1766\n",
            "Epoch 8/35\n",
            "\u001b[1m48/48\u001b[0m \u001b[32m━━━━━━━━━━━━━━━━━━━━\u001b[0m\u001b[37m\u001b[0m \u001b[1m81s\u001b[0m 756ms/step - accuracy: 0.5510 - loss: 1.1547 - val_accuracy: 0.5714 - val_loss: 1.0604\n",
            "Epoch 9/35\n",
            "\u001b[1m48/48\u001b[0m \u001b[32m━━━━━━━━━━━━━━━━━━━━\u001b[0m\u001b[37m\u001b[0m \u001b[1m41s\u001b[0m 767ms/step - accuracy: 0.6248 - loss: 0.9387 - val_accuracy: 0.7555 - val_loss: 0.6880\n",
            "Epoch 10/35\n",
            "\u001b[1m48/48\u001b[0m \u001b[32m━━━━━━━━━━━━━━━━━━━━\u001b[0m\u001b[37m\u001b[0m \u001b[1m41s\u001b[0m 776ms/step - accuracy: 0.7115 - loss: 0.7535 - val_accuracy: 0.4945 - val_loss: 1.2596\n",
            "Epoch 11/35\n",
            "\u001b[1m48/48\u001b[0m \u001b[32m━━━━━━━━━━━━━━━━━━━━\u001b[0m\u001b[37m\u001b[0m \u001b[1m81s\u001b[0m 764ms/step - accuracy: 0.5171 - loss: 1.2652 - val_accuracy: 0.6511 - val_loss: 0.8711\n",
            "Epoch 12/35\n",
            "\u001b[1m48/48\u001b[0m \u001b[32m━━━━━━━━━━━━━━━━━━━━\u001b[0m\u001b[37m\u001b[0m \u001b[1m41s\u001b[0m 771ms/step - accuracy: 0.6819 - loss: 0.8387 - val_accuracy: 0.7967 - val_loss: 0.5147\n",
            "Epoch 13/35\n",
            "\u001b[1m48/48\u001b[0m \u001b[32m━━━━━━━━━━━━━━━━━━━━\u001b[0m\u001b[37m\u001b[0m \u001b[1m41s\u001b[0m 781ms/step - accuracy: 0.7712 - loss: 0.6215 - val_accuracy: 0.7720 - val_loss: 0.6304\n",
            "Epoch 14/35\n",
            "\u001b[1m48/48\u001b[0m \u001b[32m━━━━━━━━━━━━━━━━━━━━\u001b[0m\u001b[37m\u001b[0m \u001b[1m42s\u001b[0m 807ms/step - accuracy: 0.7979 - loss: 0.5624 - val_accuracy: 0.8681 - val_loss: 0.4202\n",
            "Epoch 15/35\n",
            "\u001b[1m48/48\u001b[0m \u001b[32m━━━━━━━━━━━━━━━━━━━━\u001b[0m\u001b[37m\u001b[0m \u001b[1m82s\u001b[0m 801ms/step - accuracy: 0.8508 - loss: 0.4297 - val_accuracy: 0.8407 - val_loss: 0.4367\n",
            "Epoch 16/35\n",
            "\u001b[1m48/48\u001b[0m \u001b[32m━━━━━━━━━━━━━━━━━━━━\u001b[0m\u001b[37m\u001b[0m \u001b[1m80s\u001b[0m 766ms/step - accuracy: 0.8444 - loss: 0.4708 - val_accuracy: 0.8462 - val_loss: 0.4198\n",
            "Epoch 17/35\n",
            "\u001b[1m48/48\u001b[0m \u001b[32m━━━━━━━━━━━━━━━━━━━━\u001b[0m\u001b[37m\u001b[0m \u001b[1m41s\u001b[0m 769ms/step - accuracy: 0.8270 - loss: 0.4845 - val_accuracy: 0.7088 - val_loss: 0.7221\n",
            "Epoch 18/35\n",
            "\u001b[1m48/48\u001b[0m \u001b[32m━━━━━━━━━━━━━━━━━━━━\u001b[0m\u001b[37m\u001b[0m \u001b[1m41s\u001b[0m 773ms/step - accuracy: 0.7832 - loss: 0.5753 - val_accuracy: 0.8324 - val_loss: 0.4363\n",
            "Epoch 19/35\n",
            "\u001b[1m48/48\u001b[0m \u001b[32m━━━━━━━━━━━━━━━━━━━━\u001b[0m\u001b[37m\u001b[0m \u001b[1m81s\u001b[0m 757ms/step - accuracy: 0.8632 - loss: 0.3569 - val_accuracy: 0.8791 - val_loss: 0.3561\n",
            "Epoch 20/35\n",
            "\u001b[1m48/48\u001b[0m \u001b[32m━━━━━━━━━━━━━━━━━━━━\u001b[0m\u001b[37m\u001b[0m \u001b[1m41s\u001b[0m 779ms/step - accuracy: 0.8475 - loss: 0.4015 - val_accuracy: 0.8736 - val_loss: 0.3283\n",
            "Epoch 21/35\n",
            "\u001b[1m48/48\u001b[0m \u001b[32m━━━━━━━━━━━━━━━━━━━━\u001b[0m\u001b[37m\u001b[0m \u001b[1m81s\u001b[0m 753ms/step - accuracy: 0.9021 - loss: 0.2789 - val_accuracy: 0.7995 - val_loss: 0.5024\n",
            "Epoch 22/35\n",
            "\u001b[1m48/48\u001b[0m \u001b[32m━━━━━━━━━━━━━━━━━━━━\u001b[0m\u001b[37m\u001b[0m \u001b[1m44s\u001b[0m 806ms/step - accuracy: 0.8562 - loss: 0.3937 - val_accuracy: 0.8874 - val_loss: 0.3030\n",
            "Epoch 23/35\n",
            "\u001b[1m48/48\u001b[0m \u001b[32m━━━━━━━━━━━━━━━━━━━━\u001b[0m\u001b[37m\u001b[0m \u001b[1m42s\u001b[0m 800ms/step - accuracy: 0.9009 - loss: 0.2456 - val_accuracy: 0.8709 - val_loss: 0.4084\n",
            "Epoch 24/35\n",
            "\u001b[1m48/48\u001b[0m \u001b[32m━━━━━━━━━━━━━━━━━━━━\u001b[0m\u001b[37m\u001b[0m \u001b[1m83s\u001b[0m 807ms/step - accuracy: 0.8994 - loss: 0.2847 - val_accuracy: 0.8654 - val_loss: 0.3202\n",
            "Epoch 25/35\n",
            "\u001b[1m48/48\u001b[0m \u001b[32m━━━━━━━━━━━━━━━━━━━━\u001b[0m\u001b[37m\u001b[0m \u001b[1m42s\u001b[0m 798ms/step - accuracy: 0.9150 - loss: 0.2555 - val_accuracy: 0.9011 - val_loss: 0.3258\n",
            "Epoch 26/35\n",
            "\u001b[1m48/48\u001b[0m \u001b[32m━━━━━━━━━━━━━━━━━━━━\u001b[0m\u001b[37m\u001b[0m \u001b[1m81s\u001b[0m 779ms/step - accuracy: 0.8920 - loss: 0.2677 - val_accuracy: 0.9093 - val_loss: 0.2596\n",
            "Epoch 27/35\n",
            "\u001b[1m48/48\u001b[0m \u001b[32m━━━━━━━━━━━━━━━━━━━━\u001b[0m\u001b[37m\u001b[0m \u001b[1m41s\u001b[0m 767ms/step - accuracy: 0.9202 - loss: 0.2021 - val_accuracy: 0.9093 - val_loss: 0.2981\n",
            "Epoch 28/35\n",
            "\u001b[1m48/48\u001b[0m \u001b[32m━━━━━━━━━━━━━━━━━━━━\u001b[0m\u001b[37m\u001b[0m \u001b[1m41s\u001b[0m 772ms/step - accuracy: 0.8924 - loss: 0.2920 - val_accuracy: 0.9176 - val_loss: 0.2494\n",
            "Epoch 29/35\n",
            "\u001b[1m48/48\u001b[0m \u001b[32m━━━━━━━━━━━━━━━━━━━━\u001b[0m\u001b[37m\u001b[0m \u001b[1m82s\u001b[0m 783ms/step - accuracy: 0.9143 - loss: 0.2344 - val_accuracy: 0.8956 - val_loss: 0.3394\n",
            "Epoch 30/35\n",
            "\u001b[1m48/48\u001b[0m \u001b[32m━━━━━━━━━━━━━━━━━━━━\u001b[0m\u001b[37m\u001b[0m \u001b[1m41s\u001b[0m 775ms/step - accuracy: 0.9092 - loss: 0.3017 - val_accuracy: 0.9148 - val_loss: 0.2789\n",
            "Epoch 31/35\n",
            "\u001b[1m48/48\u001b[0m \u001b[32m━━━━━━━━━━━━━━━━━━━━\u001b[0m\u001b[37m\u001b[0m \u001b[1m42s\u001b[0m 797ms/step - accuracy: 0.9155 - loss: 0.1884 - val_accuracy: 0.9066 - val_loss: 0.3066\n",
            "Epoch 32/35\n",
            "\u001b[1m48/48\u001b[0m \u001b[32m━━━━━━━━━━━━━━━━━━━━\u001b[0m\u001b[37m\u001b[0m \u001b[1m42s\u001b[0m 795ms/step - accuracy: 0.9309 - loss: 0.2010 - val_accuracy: 0.8901 - val_loss: 0.3123\n",
            "Epoch 33/35\n",
            "\u001b[1m48/48\u001b[0m \u001b[32m━━━━━━━━━━━━━━━━━━━━\u001b[0m\u001b[37m\u001b[0m \u001b[1m41s\u001b[0m 783ms/step - accuracy: 0.9124 - loss: 0.2116 - val_accuracy: 0.8736 - val_loss: 0.3589\n",
            "Epoch 34/35\n",
            "\u001b[1m48/48\u001b[0m \u001b[32m━━━━━━━━━━━━━━━━━━━━\u001b[0m\u001b[37m\u001b[0m \u001b[1m82s\u001b[0m 777ms/step - accuracy: 0.9267 - loss: 0.2002 - val_accuracy: 0.9011 - val_loss: 0.2423\n",
            "Epoch 35/35\n",
            "\u001b[1m48/48\u001b[0m \u001b[32m━━━━━━━━━━━━━━━━━━━━\u001b[0m\u001b[37m\u001b[0m \u001b[1m81s\u001b[0m 766ms/step - accuracy: 0.9483 - loss: 0.1526 - val_accuracy: 0.8352 - val_loss: 0.5621\n"
          ]
        },
        {
          "output_type": "execute_result",
          "data": {
            "text/plain": [
              "<keras.src.callbacks.history.History at 0x7cf23a22e9e0>"
            ]
          },
          "metadata": {},
          "execution_count": 41
        }
      ]
    },
    {
      "cell_type": "markdown",
      "source": [
        "# Preprocessing for AlexNet"
      ],
      "metadata": {
        "id": "MsB3I73JUVEF"
      }
    },
    {
      "cell_type": "code",
      "source": [
        "image_size = (227, 227)  # Update image size to 227x227 for AlexNet\n",
        "\n",
        "# Set up ImageDataGenerator for training with augmentation\n",
        "train_datagen = ImageDataGenerator(\n",
        "    rescale=1./255,\n",
        "    rotation_range=20,\n",
        "    width_shift_range=0.2,\n",
        "    height_shift_range=0.2,\n",
        "    shear_range=0.2,\n",
        "    zoom_range=0.2,\n",
        "    horizontal_flip=True,\n",
        "    fill_mode='nearest'\n",
        ")\n",
        "\n",
        "# Set up ImageDataGenerator for validation and test (only rescaling)\n",
        "val_datagen = ImageDataGenerator(rescale=1./255)\n",
        "test_datagen = ImageDataGenerator(rescale=1./255)\n",
        "\n",
        "# Load the images from directories\n",
        "train_generator = train_datagen.flow_from_directory(\n",
        "    os.path.join(base_dir, 'train'),\n",
        "    target_size=image_size,\n",
        "    batch_size=32,\n",
        "    class_mode='categorical'\n",
        ")\n",
        "\n",
        "val_generator = val_datagen.flow_from_directory(\n",
        "    os.path.join(base_dir, 'val'),\n",
        "    target_size=image_size,\n",
        "    batch_size=32,\n",
        "    class_mode='categorical'\n",
        ")\n",
        "\n",
        "test_generator = test_datagen.flow_from_directory(\n",
        "    os.path.join(base_dir, 'test'),\n",
        "    target_size=image_size,\n",
        "    batch_size=32,\n",
        "    class_mode='categorical',\n",
        "    shuffle=False  # Disable shuffle for testing to get predictions in order\n",
        ")\n"
      ],
      "metadata": {
        "colab": {
          "base_uri": "https://localhost:8080/"
        },
        "id": "vL1XZ8FU7vq0",
        "outputId": "9964efda-35d0-442e-b3f2-71358580a785"
      },
      "execution_count": 44,
      "outputs": [
        {
          "output_type": "stream",
          "name": "stdout",
          "text": [
            "Found 1506 images belonging to 5 classes.\n",
            "Found 364 images belonging to 5 classes.\n",
            "Found 370 images belonging to 5 classes.\n"
          ]
        }
      ]
    },
    {
      "cell_type": "markdown",
      "source": [
        "# Modeling AlexNet"
      ],
      "metadata": {
        "id": "-ZlKJCcMUdxt"
      }
    },
    {
      "cell_type": "code",
      "source": [
        "# Define the AlexNet model (updated for 227x227 images)\n",
        "alexnet_model = models.Sequential([\n",
        "    Conv2D(96, (11, 11), strides=(4, 4), activation='relu', input_shape=(227, 227, 3)),\n",
        "    MaxPooling2D((3, 3), strides=(2, 2)),\n",
        "    Conv2D(256, (5, 5), padding=\"same\", activation='relu'),\n",
        "    MaxPooling2D((3, 3), strides=(2, 2)),\n",
        "    Conv2D(384, (3, 3), padding=\"same\", activation='relu'),\n",
        "    Conv2D(384, (3, 3), padding=\"same\", activation='relu'),\n",
        "    Conv2D(256, (3, 3), padding=\"same\", activation='relu'),\n",
        "    MaxPooling2D((3, 3), strides=(2, 2)),\n",
        "    Flatten(),\n",
        "    Dense(4096, activation='relu'),\n",
        "    Dropout(0.5),\n",
        "    Dense(4096, activation='relu'),\n",
        "    Dropout(0.5),\n",
        "    Dense(9216, activation='relu'),  # Change this from 6400 to 9216\n",
        "    Dense(train_generator.num_classes, activation='softmax')\n",
        "])\n",
        "\n",
        "# Compile the model\n",
        "alexnet_model.compile(optimizer=Adam(learning_rate=0.0001), loss='categorical_crossentropy', metrics=['accuracy'])\n"
      ],
      "metadata": {
        "colab": {
          "base_uri": "https://localhost:8080/"
        },
        "id": "MCeZeaOA7wgg",
        "outputId": "5ca3302f-f9c0-4121-a000-3a7a02e35fa4"
      },
      "execution_count": 45,
      "outputs": [
        {
          "output_type": "stream",
          "name": "stderr",
          "text": [
            "/usr/local/lib/python3.10/dist-packages/keras/src/layers/convolutional/base_conv.py:107: UserWarning: Do not pass an `input_shape`/`input_dim` argument to a layer. When using Sequential models, prefer using an `Input(shape)` object as the first layer in the model instead.\n",
            "  super().__init__(activity_regularizer=activity_regularizer, **kwargs)\n"
          ]
        }
      ]
    },
    {
      "cell_type": "markdown",
      "source": [
        "Training"
      ],
      "metadata": {
        "id": "wWX17UDOUku5"
      }
    },
    {
      "cell_type": "code",
      "source": [
        "# Train AlexNet\n",
        "print(\"Training AlexNet model...\")\n",
        "alexnet_model.fit(train_generator, validation_data=val_generator, epochs=epochs)"
      ],
      "metadata": {
        "colab": {
          "base_uri": "https://localhost:8080/"
        },
        "id": "SMg2dTfB70ZF",
        "outputId": "4d5c33e7-6d33-420b-f4f7-5435ed91c3d0"
      },
      "execution_count": 46,
      "outputs": [
        {
          "output_type": "stream",
          "name": "stdout",
          "text": [
            "Training AlexNet model...\n",
            "Epoch 1/35\n"
          ]
        },
        {
          "output_type": "stream",
          "name": "stderr",
          "text": [
            "/usr/local/lib/python3.10/dist-packages/keras/src/trainers/data_adapters/py_dataset_adapter.py:121: UserWarning: Your `PyDataset` class should call `super().__init__(**kwargs)` in its constructor. `**kwargs` can include `workers`, `use_multiprocessing`, `max_queue_size`. Do not pass these arguments to `fit()`, as they will be ignored.\n",
            "  self._warn_if_super_not_called()\n"
          ]
        },
        {
          "output_type": "stream",
          "name": "stdout",
          "text": [
            "\u001b[1m48/48\u001b[0m \u001b[32m━━━━━━━━━━━━━━━━━━━━\u001b[0m\u001b[37m\u001b[0m \u001b[1m49s\u001b[0m 738ms/step - accuracy: 0.2971 - loss: 1.5623 - val_accuracy: 0.2005 - val_loss: 1.5445\n",
            "Epoch 2/35\n",
            "\u001b[1m48/48\u001b[0m \u001b[32m━━━━━━━━━━━━━━━━━━━━\u001b[0m\u001b[37m\u001b[0m \u001b[1m72s\u001b[0m 618ms/step - accuracy: 0.2688 - loss: 1.5583 - val_accuracy: 0.3984 - val_loss: 1.5214\n",
            "Epoch 3/35\n",
            "\u001b[1m48/48\u001b[0m \u001b[32m━━━━━━━━━━━━━━━━━━━━\u001b[0m\u001b[37m\u001b[0m \u001b[1m43s\u001b[0m 683ms/step - accuracy: 0.2996 - loss: 1.5482 - val_accuracy: 0.3984 - val_loss: 1.4643\n",
            "Epoch 4/35\n",
            "\u001b[1m48/48\u001b[0m \u001b[32m━━━━━━━━━━━━━━━━━━━━\u001b[0m\u001b[37m\u001b[0m \u001b[1m32s\u001b[0m 585ms/step - accuracy: 0.3341 - loss: 1.5109 - val_accuracy: 0.3489 - val_loss: 1.4756\n",
            "Epoch 5/35\n",
            "\u001b[1m48/48\u001b[0m \u001b[32m━━━━━━━━━━━━━━━━━━━━\u001b[0m\u001b[37m\u001b[0m \u001b[1m33s\u001b[0m 597ms/step - accuracy: 0.3019 - loss: 1.5665 - val_accuracy: 0.3104 - val_loss: 1.4796\n",
            "Epoch 6/35\n",
            "\u001b[1m48/48\u001b[0m \u001b[32m━━━━━━━━━━━━━━━━━━━━\u001b[0m\u001b[37m\u001b[0m \u001b[1m33s\u001b[0m 591ms/step - accuracy: 0.3102 - loss: 1.5286 - val_accuracy: 0.3929 - val_loss: 1.4762\n",
            "Epoch 7/35\n",
            "\u001b[1m48/48\u001b[0m \u001b[32m━━━━━━━━━━━━━━━━━━━━\u001b[0m\u001b[37m\u001b[0m \u001b[1m41s\u001b[0m 583ms/step - accuracy: 0.3243 - loss: 1.5145 - val_accuracy: 0.4148 - val_loss: 1.4713\n",
            "Epoch 8/35\n",
            "\u001b[1m48/48\u001b[0m \u001b[32m━━━━━━━━━━━━━━━━━━━━\u001b[0m\u001b[37m\u001b[0m \u001b[1m32s\u001b[0m 595ms/step - accuracy: 0.3256 - loss: 1.5007 - val_accuracy: 0.3764 - val_loss: 1.4366\n",
            "Epoch 9/35\n",
            "\u001b[1m48/48\u001b[0m \u001b[32m━━━━━━━━━━━━━━━━━━━━\u001b[0m\u001b[37m\u001b[0m \u001b[1m32s\u001b[0m 609ms/step - accuracy: 0.3268 - loss: 1.4832 - val_accuracy: 0.4066 - val_loss: 1.3883\n",
            "Epoch 10/35\n",
            "\u001b[1m48/48\u001b[0m \u001b[32m━━━━━━━━━━━━━━━━━━━━\u001b[0m\u001b[37m\u001b[0m \u001b[1m34s\u001b[0m 597ms/step - accuracy: 0.3361 - loss: 1.4734 - val_accuracy: 0.3984 - val_loss: 1.4469\n",
            "Epoch 11/35\n",
            "\u001b[1m48/48\u001b[0m \u001b[32m━━━━━━━━━━━━━━━━━━━━\u001b[0m\u001b[37m\u001b[0m \u001b[1m40s\u001b[0m 582ms/step - accuracy: 0.3570 - loss: 1.4624 - val_accuracy: 0.4615 - val_loss: 1.3508\n",
            "Epoch 12/35\n",
            "\u001b[1m48/48\u001b[0m \u001b[32m━━━━━━━━━━━━━━━━━━━━\u001b[0m\u001b[37m\u001b[0m \u001b[1m34s\u001b[0m 622ms/step - accuracy: 0.4087 - loss: 1.4251 - val_accuracy: 0.4670 - val_loss: 1.3297\n",
            "Epoch 13/35\n",
            "\u001b[1m48/48\u001b[0m \u001b[32m━━━━━━━━━━━━━━━━━━━━\u001b[0m\u001b[37m\u001b[0m \u001b[1m32s\u001b[0m 604ms/step - accuracy: 0.4005 - loss: 1.4071 - val_accuracy: 0.5027 - val_loss: 1.2839\n",
            "Epoch 14/35\n",
            "\u001b[1m48/48\u001b[0m \u001b[32m━━━━━━━━━━━━━━━━━━━━\u001b[0m\u001b[37m\u001b[0m \u001b[1m35s\u001b[0m 644ms/step - accuracy: 0.4248 - loss: 1.3571 - val_accuracy: 0.5577 - val_loss: 1.2020\n",
            "Epoch 15/35\n",
            "\u001b[1m48/48\u001b[0m \u001b[32m━━━━━━━━━━━━━━━━━━━━\u001b[0m\u001b[37m\u001b[0m \u001b[1m32s\u001b[0m 597ms/step - accuracy: 0.4743 - loss: 1.2942 - val_accuracy: 0.5275 - val_loss: 1.2322\n",
            "Epoch 16/35\n",
            "\u001b[1m48/48\u001b[0m \u001b[32m━━━━━━━━━━━━━━━━━━━━\u001b[0m\u001b[37m\u001b[0m \u001b[1m41s\u001b[0m 595ms/step - accuracy: 0.4782 - loss: 1.2636 - val_accuracy: 0.5000 - val_loss: 1.2879\n",
            "Epoch 17/35\n",
            "\u001b[1m48/48\u001b[0m \u001b[32m━━━━━━━━━━━━━━━━━━━━\u001b[0m\u001b[37m\u001b[0m \u001b[1m32s\u001b[0m 594ms/step - accuracy: 0.5163 - loss: 1.2282 - val_accuracy: 0.4918 - val_loss: 1.4084\n",
            "Epoch 18/35\n",
            "\u001b[1m48/48\u001b[0m \u001b[32m━━━━━━━━━━━━━━━━━━━━\u001b[0m\u001b[37m\u001b[0m \u001b[1m41s\u001b[0m 602ms/step - accuracy: 0.4703 - loss: 1.3110 - val_accuracy: 0.5385 - val_loss: 1.2054\n",
            "Epoch 19/35\n",
            "\u001b[1m48/48\u001b[0m \u001b[32m━━━━━━━━━━━━━━━━━━━━\u001b[0m\u001b[37m\u001b[0m \u001b[1m41s\u001b[0m 590ms/step - accuracy: 0.5367 - loss: 1.1835 - val_accuracy: 0.5797 - val_loss: 1.0939\n",
            "Epoch 20/35\n",
            "\u001b[1m48/48\u001b[0m \u001b[32m━━━━━━━━━━━━━━━━━━━━\u001b[0m\u001b[37m\u001b[0m \u001b[1m41s\u001b[0m 581ms/step - accuracy: 0.5198 - loss: 1.1751 - val_accuracy: 0.5879 - val_loss: 1.0904\n",
            "Epoch 21/35\n",
            "\u001b[1m48/48\u001b[0m \u001b[32m━━━━━━━━━━━━━━━━━━━━\u001b[0m\u001b[37m\u001b[0m \u001b[1m33s\u001b[0m 592ms/step - accuracy: 0.5621 - loss: 1.1141 - val_accuracy: 0.5769 - val_loss: 1.1659\n",
            "Epoch 22/35\n",
            "\u001b[1m48/48\u001b[0m \u001b[32m━━━━━━━━━━━━━━━━━━━━\u001b[0m\u001b[37m\u001b[0m \u001b[1m32s\u001b[0m 605ms/step - accuracy: 0.4639 - loss: 1.2525 - val_accuracy: 0.5742 - val_loss: 1.0572\n",
            "Epoch 23/35\n",
            "\u001b[1m48/48\u001b[0m \u001b[32m━━━━━━━━━━━━━━━━━━━━\u001b[0m\u001b[37m\u001b[0m \u001b[1m41s\u001b[0m 590ms/step - accuracy: 0.5670 - loss: 1.1221 - val_accuracy: 0.6181 - val_loss: 1.0279\n",
            "Epoch 24/35\n",
            "\u001b[1m48/48\u001b[0m \u001b[32m━━━━━━━━━━━━━━━━━━━━\u001b[0m\u001b[37m\u001b[0m \u001b[1m36s\u001b[0m 672ms/step - accuracy: 0.5687 - loss: 1.1100 - val_accuracy: 0.6209 - val_loss: 0.9931\n",
            "Epoch 25/35\n",
            "\u001b[1m48/48\u001b[0m \u001b[32m━━━━━━━━━━━━━━━━━━━━\u001b[0m\u001b[37m\u001b[0m \u001b[1m32s\u001b[0m 604ms/step - accuracy: 0.5992 - loss: 1.0202 - val_accuracy: 0.5082 - val_loss: 1.1209\n",
            "Epoch 26/35\n",
            "\u001b[1m48/48\u001b[0m \u001b[32m━━━━━━━━━━━━━━━━━━━━\u001b[0m\u001b[37m\u001b[0m \u001b[1m41s\u001b[0m 598ms/step - accuracy: 0.5680 - loss: 1.0859 - val_accuracy: 0.6264 - val_loss: 0.9653\n",
            "Epoch 27/35\n",
            "\u001b[1m48/48\u001b[0m \u001b[32m━━━━━━━━━━━━━━━━━━━━\u001b[0m\u001b[37m\u001b[0m \u001b[1m33s\u001b[0m 607ms/step - accuracy: 0.5921 - loss: 1.0246 - val_accuracy: 0.5357 - val_loss: 1.1072\n",
            "Epoch 28/35\n",
            "\u001b[1m48/48\u001b[0m \u001b[32m━━━━━━━━━━━━━━━━━━━━\u001b[0m\u001b[37m\u001b[0m \u001b[1m43s\u001b[0m 647ms/step - accuracy: 0.6024 - loss: 1.0347 - val_accuracy: 0.6538 - val_loss: 0.9186\n",
            "Epoch 29/35\n",
            "\u001b[1m48/48\u001b[0m \u001b[32m━━━━━━━━━━━━━━━━━━━━\u001b[0m\u001b[37m\u001b[0m \u001b[1m35s\u001b[0m 654ms/step - accuracy: 0.5939 - loss: 1.0125 - val_accuracy: 0.6758 - val_loss: 0.8965\n",
            "Epoch 30/35\n",
            "\u001b[1m48/48\u001b[0m \u001b[32m━━━━━━━━━━━━━━━━━━━━\u001b[0m\u001b[37m\u001b[0m \u001b[1m32s\u001b[0m 593ms/step - accuracy: 0.6571 - loss: 0.8982 - val_accuracy: 0.6071 - val_loss: 0.9839\n",
            "Epoch 31/35\n",
            "\u001b[1m48/48\u001b[0m \u001b[32m━━━━━━━━━━━━━━━━━━━━\u001b[0m\u001b[37m\u001b[0m \u001b[1m33s\u001b[0m 582ms/step - accuracy: 0.6339 - loss: 0.9335 - val_accuracy: 0.6703 - val_loss: 0.8262\n",
            "Epoch 32/35\n",
            "\u001b[1m48/48\u001b[0m \u001b[32m━━━━━━━━━━━━━━━━━━━━\u001b[0m\u001b[37m\u001b[0m \u001b[1m32s\u001b[0m 602ms/step - accuracy: 0.6295 - loss: 0.9371 - val_accuracy: 0.6264 - val_loss: 0.9967\n",
            "Epoch 33/35\n",
            "\u001b[1m48/48\u001b[0m \u001b[32m━━━━━━━━━━━━━━━━━━━━\u001b[0m\u001b[37m\u001b[0m \u001b[1m32s\u001b[0m 607ms/step - accuracy: 0.5906 - loss: 0.9998 - val_accuracy: 0.5934 - val_loss: 1.0983\n",
            "Epoch 34/35\n",
            "\u001b[1m48/48\u001b[0m \u001b[32m━━━━━━━━━━━━━━━━━━━━\u001b[0m\u001b[37m\u001b[0m \u001b[1m41s\u001b[0m 593ms/step - accuracy: 0.6607 - loss: 0.8781 - val_accuracy: 0.5907 - val_loss: 1.0455\n",
            "Epoch 35/35\n",
            "\u001b[1m48/48\u001b[0m \u001b[32m━━━━━━━━━━━━━━━━━━━━\u001b[0m\u001b[37m\u001b[0m \u001b[1m33s\u001b[0m 575ms/step - accuracy: 0.6633 - loss: 0.8769 - val_accuracy: 0.6813 - val_loss: 0.8796\n"
          ]
        },
        {
          "output_type": "execute_result",
          "data": {
            "text/plain": [
              "<keras.src.callbacks.history.History at 0x7cf255528070>"
            ]
          },
          "metadata": {},
          "execution_count": 46
        }
      ]
    },
    {
      "cell_type": "markdown",
      "source": [
        "# Evaluating"
      ],
      "metadata": {
        "id": "pGCeKA-TUNro"
      }
    },
    {
      "cell_type": "code",
      "source": [
        "# Evaluate InceptionV3 model\n",
        "print(\"Evaluating InceptionV3 model...\")\n",
        "inception_score = inception_model.evaluate(test_generator)\n",
        "print(f\"InceptionV3 Test Loss: {inception_score[0]}, Test Accuracy: {inception_score[1]}\")\n",
        "\n",
        "# Evaluate VGG16 model\n",
        "print(\"Evaluating VGG16 model...\")\n",
        "vgg_score = vgg_model.evaluate(test_generator)\n",
        "print(f\"VGG16 Test Loss: {vgg_score[0]}, Test Accuracy: {vgg_score[1]}\")\n"
      ],
      "metadata": {
        "colab": {
          "base_uri": "https://localhost:8080/"
        },
        "id": "cbKLylKhudGU",
        "outputId": "dbba9f4d-df05-4eb6-ac36-035b5de6f77c"
      },
      "execution_count": 42,
      "outputs": [
        {
          "output_type": "stream",
          "name": "stdout",
          "text": [
            "Evaluating InceptionV3 model...\n",
            "\u001b[1m12/12\u001b[0m \u001b[32m━━━━━━━━━━━━━━━━━━━━\u001b[0m\u001b[37m\u001b[0m \u001b[1m4s\u001b[0m 282ms/step - accuracy: 0.9375 - loss: 0.2619\n",
            "InceptionV3 Test Loss: 0.286150187253952, Test Accuracy: 0.9243243336677551\n",
            "Evaluating VGG16 model...\n",
            "\u001b[1m12/12\u001b[0m \u001b[32m━━━━━━━━━━━━━━━━━━━━\u001b[0m\u001b[37m\u001b[0m \u001b[1m3s\u001b[0m 242ms/step - accuracy: 0.7025 - loss: 0.9533\n",
            "VGG16 Test Loss: 0.6374755501747131, Test Accuracy: 0.7945945858955383\n"
          ]
        }
      ]
    },
    {
      "cell_type": "code",
      "source": [
        "# Evaluate AlexNet model\n",
        "print(\"Evaluating AlexNet model...\")\n",
        "alexnet_score = alexnet_model.evaluate(test_generator)\n",
        "print(f\"AlexNet Test Loss: {alexnet_score[0]}, Test Accuracy: {alexnet_score[1]}\")\n"
      ],
      "metadata": {
        "colab": {
          "base_uri": "https://localhost:8080/"
        },
        "id": "ogyCMhQV74N1",
        "outputId": "77cdb6e7-8a47-45b4-c198-b51aecbd26e3"
      },
      "execution_count": 47,
      "outputs": [
        {
          "output_type": "stream",
          "name": "stdout",
          "text": [
            "Evaluating AlexNet model...\n",
            "\u001b[1m12/12\u001b[0m \u001b[32m━━━━━━━━━━━━━━━━━━━━\u001b[0m\u001b[37m\u001b[0m \u001b[1m4s\u001b[0m 329ms/step - accuracy: 0.6666 - loss: 0.9535\n",
            "AlexNet Test Loss: 0.8176013827323914, Test Accuracy: 0.7135134935379028\n"
          ]
        }
      ]
    },
    {
      "cell_type": "markdown",
      "source": [
        "# Confusion matrix"
      ],
      "metadata": {
        "id": "xBxQTWEdVfGL"
      }
    },
    {
      "cell_type": "code",
      "source": [
        "def evaluate_model(model, test_generator):\n",
        "    Y_pred = model.predict(test_generator)\n",
        "    y_pred = np.argmax(Y_pred, axis=1)\n",
        "\n",
        "    print('Confusion Matrix:')\n",
        "    print(confusion_matrix(test_generator.classes, y_pred))\n",
        "\n",
        "    print('Classification Report:')\n",
        "    print(classification_report(test_generator.classes, y_pred, target_names=test_generator.class_indices.keys()))\n",
        "\n",
        "# Evaluate all models\n",
        "print(\"Evaluating InceptionV3 model on test data...\")\n",
        "evaluate_model(inception_model, test_generator)\n",
        "\n",
        "print(\"Evaluating VGG16 model on test data...\")\n",
        "evaluate_model(vgg_model, test_generator)\n"
      ],
      "metadata": {
        "colab": {
          "base_uri": "https://localhost:8080/"
        },
        "id": "1JVi__Di5BJM",
        "outputId": "443b94f0-8bd6-492b-d4f6-6494e61f107f"
      },
      "execution_count": 43,
      "outputs": [
        {
          "output_type": "stream",
          "name": "stdout",
          "text": [
            "Evaluating InceptionV3 model on test data...\n",
            "\u001b[1m12/12\u001b[0m \u001b[32m━━━━━━━━━━━━━━━━━━━━\u001b[0m\u001b[37m\u001b[0m \u001b[1m5s\u001b[0m 312ms/step\n",
            "Confusion Matrix:\n",
            "[[ 71   2   0   0   0]\n",
            " [  5  43   3   0   0]\n",
            " [  2   3 139   0   1]\n",
            " [  2   0   1  62   2]\n",
            " [  0   0   7   0  27]]\n",
            "Classification Report:\n",
            "              precision    recall  f1-score   support\n",
            "\n",
            "    Straight       0.89      0.97      0.93        73\n",
            "        Wavy       0.90      0.84      0.87        51\n",
            "       curly       0.93      0.96      0.94       145\n",
            "  dreadlocks       1.00      0.93      0.96        67\n",
            "       kinky       0.90      0.79      0.84        34\n",
            "\n",
            "    accuracy                           0.92       370\n",
            "   macro avg       0.92      0.90      0.91       370\n",
            "weighted avg       0.93      0.92      0.92       370\n",
            "\n",
            "Evaluating VGG16 model on test data...\n",
            "\u001b[1m12/12\u001b[0m \u001b[32m━━━━━━━━━━━━━━━━━━━━\u001b[0m\u001b[37m\u001b[0m \u001b[1m3s\u001b[0m 225ms/step\n",
            "Confusion Matrix:\n",
            "[[ 48   5   5  12   3]\n",
            " [  0  20  26   3   2]\n",
            " [  0   0 134   0  11]\n",
            " [  0   0   3  61   3]\n",
            " [  0   0   3   0  31]]\n",
            "Classification Report:\n",
            "              precision    recall  f1-score   support\n",
            "\n",
            "    Straight       1.00      0.66      0.79        73\n",
            "        Wavy       0.80      0.39      0.53        51\n",
            "       curly       0.78      0.92      0.85       145\n",
            "  dreadlocks       0.80      0.91      0.85        67\n",
            "       kinky       0.62      0.91      0.74        34\n",
            "\n",
            "    accuracy                           0.79       370\n",
            "   macro avg       0.80      0.76      0.75       370\n",
            "weighted avg       0.82      0.79      0.78       370\n",
            "\n"
          ]
        }
      ]
    },
    {
      "cell_type": "code",
      "source": [
        "def evaluate_model(model, test_generator):\n",
        "    Y_pred = model.predict(test_generator)\n",
        "    y_pred = np.argmax(Y_pred, axis=1)\n",
        "\n",
        "    print('Confusion Matrix:')\n",
        "    print(confusion_matrix(test_generator.classes, y_pred))\n",
        "\n",
        "    print('Classification Report:')\n",
        "    print(classification_report(test_generator.classes, y_pred, target_names=test_generator.class_indices.keys()))\n",
        "\n",
        "print(\"Evaluating AlexNet model on test data...\")\n",
        "evaluate_model(alexnet_model, test_generator)\n"
      ],
      "metadata": {
        "colab": {
          "base_uri": "https://localhost:8080/"
        },
        "id": "RmACTscL7_yi",
        "outputId": "3ae6e1e5-863a-46ad-e10b-7170ae74199f"
      },
      "execution_count": 48,
      "outputs": [
        {
          "output_type": "stream",
          "name": "stdout",
          "text": [
            "Evaluating AlexNet model on test data...\n",
            "\u001b[1m12/12\u001b[0m \u001b[32m━━━━━━━━━━━━━━━━━━━━\u001b[0m\u001b[37m\u001b[0m \u001b[1m5s\u001b[0m 322ms/step\n",
            "Confusion Matrix:\n",
            "[[ 46   7   5  13   2]\n",
            " [  3  17  20  10   1]\n",
            " [  1   2 135   4   3]\n",
            " [  2   1  13  51   0]\n",
            " [  0   1  18   0  15]]\n",
            "Classification Report:\n",
            "              precision    recall  f1-score   support\n",
            "\n",
            "    Straight       0.88      0.63      0.74        73\n",
            "        Wavy       0.61      0.33      0.43        51\n",
            "       curly       0.71      0.93      0.80       145\n",
            "  dreadlocks       0.65      0.76      0.70        67\n",
            "       kinky       0.71      0.44      0.55        34\n",
            "\n",
            "    accuracy                           0.71       370\n",
            "   macro avg       0.71      0.62      0.64       370\n",
            "weighted avg       0.72      0.71      0.70       370\n",
            "\n"
          ]
        }
      ]
    },
    {
      "cell_type": "markdown",
      "source": [
        "# Summary"
      ],
      "metadata": {
        "id": "ED0VvBNeSKc0"
      }
    },
    {
      "cell_type": "markdown",
      "source": [
        "![image.png](data:image/png;base64,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)"
      ],
      "metadata": {
        "id": "utrVSNHGSOTV"
      }
    },
    {
      "cell_type": "code",
      "source": [],
      "metadata": {
        "id": "VdSF7WtVSNNY"
      },
      "execution_count": null,
      "outputs": []
    }
  ]
}